{
  "nbformat": 4,
  "nbformat_minor": 0,
  "metadata": {
    "colab": {
      "provenance": []
    },
    "kernelspec": {
      "name": "python3",
      "display_name": "Python 3"
    },
    "language_info": {
      "name": "python"
    }
  },
  "cells": [
    {
      "cell_type": "markdown",
      "source": [
        "## **DataLoade**r"
      ],
      "metadata": {
        "id": "FULwduAKm8Tz"
      }
    },
    {
      "cell_type": "markdown",
      "source": [
        "دیتا لودر چیست ؟\n",
        "\n",
        "ابزاری است که مدیریت بارگذاری، پیش‌پردازش و ارائه داده‌ها به مدل را بهینه می‌کند\n",
        "\n",
        "####  **اصلی‌ترین وظایف دیتالودر:**\n",
        "\n",
        "\n",
        "##### 1.بارگذاری داده\n",
        "داده‌ها را از منابع مختلف می‌خواند\n",
        "\n",
        "مثال :\n",
        "\n",
        "    from torch.utils.data import DataLoader, Dataset\n",
        "    dataset = MyCustomDataset()  # داده‌های شما\n",
        "    dataloader = DataLoader(dataset, batch_size=32)\n",
        "\n",
        "\n",
        "\n",
        "\n",
        "##### 2.ایجاد باتچ‌ها\n",
        "\n",
        "داده‌ها را به دسته‌های کوچک یا بچ تقسیم می‌کند تا پردازش آن‌ها توسط مدل بهینه شود\n",
        "\n",
        "    dataloader = DataLoader(dataset, batch_size=32)\n",
        "    for batch in dataloader:\n",
        "        inputs, labels = batch    # هر batch شامل 32 نمونه است\n",
        "\n",
        "\n",
        "\n",
        "\n",
        "##### 3.تصادفی‌سازی\n",
        "\n",
        "داده‌ها را قبل از هر دوره تصادفی می‌کند تا مدل به ترتیب داده‌ها حساس نشود\n",
        "\n",
        "    dataloader = DataLoader(dataset, batch_size=32, shuffle=True)\n",
        "\n",
        "\n",
        "چرا دیتالودر مهم است؟\n",
        "\n",
        " داده‌ها را به جای بارگذاری یکجا، به صورت باتچ‌های کوچک لود می‌کند\n"
      ],
      "metadata": {
        "id": "L8SDnxw3nENG"
      }
    },
    {
      "cell_type": "markdown",
      "source": [
        "\n",
        "#### ⁉ دلیل حرفای بالا\n",
        "\n",
        "پیاده سازی شده است get_batch در کد ما دیتالودر به صورت دستی با متد\n",
        "\n",
        "DataLoader -> **get_batch** method\n",
        "\n",
        "      def get_batch(split:str):\n",
        "        ids = train_ids if split == 'train' else val_ids\n",
        "        ix = torch.randint(0,len(ids) - cfg.seq_len - 1,(cfg.batch_size,))\n",
        "        x = torch.stack([ids[i : i + cfg.seq_len] for i in ix])\n",
        "        y = torch.stack([ids[i+1 : i+1 + cfg.seq_len] for i in ix])\n",
        "        return x.to(device),y.to(device)\n",
        "\n",
        "\n",
        "#### ▶ توضیح کد\n",
        "\n",
        "##### ◾ انتخاب تصادفی ایندکس‌ها     \n",
        "\n",
        "\n",
        "\n",
        "    ix = torch.randint(0, len(ids) - cfg.seq_len - 1, (cfg.batch_size,))\n",
        "\n",
        "تولید می‌کند [0, len(ids) - seq_len - 1]  ایندکس‌های تصادفی در محدوده\n",
        "\n",
        "دلیل تفریق seq_len ->\n",
        "\n",
        "از محدوده خارج نشویم (seq_len تایی) اطمینان از اینکه هنگام برش دنباله\n",
        "\n",
        "##### ◾ ساخت باتچ‌های ورودی و هدف  \n",
        "\n",
        "\n",
        "\n",
        "    x = torch.stack([ids[i : i + cfg.seq_len] for i in ix])\n",
        "    y = torch.stack([ids[i+1 : i+1 + cfg.seq_len] for i in ix])\n"
      ],
      "metadata": {
        "id": "fHMJlI0BusZF"
      }
    },
    {
      "cell_type": "code",
      "source": [
        "  def get_batch(split:str):\n",
        "    ids = train_ids if split == 'train' else val_ids\n",
        "    ix = torch.randint(0,len(ids) - cfg.seq_len - 1,(cfg.batch_size,))\n",
        "    x = torch.stack([ids[i : i + cfg.seq_len] for i in ix])\n",
        "    y = torch.stack([ids[i+1 : i+1 + cfg.seq_len] for i in ix])\n",
        "    return x.to(device),y.to(device)"
      ],
      "metadata": {
        "id": "LnPVlXNv2HsV"
      },
      "execution_count": null,
      "outputs": []
    }
  ]
}