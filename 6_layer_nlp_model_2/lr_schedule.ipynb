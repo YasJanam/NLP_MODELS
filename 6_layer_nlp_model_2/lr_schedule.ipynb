{
  "nbformat": 4,
  "nbformat_minor": 0,
  "metadata": {
    "colab": {
      "provenance": []
    },
    "kernelspec": {
      "name": "python3",
      "display_name": "Python 3"
    },
    "language_info": {
      "name": "python"
    }
  },
  "cells": [
    {
      "cell_type": "markdown",
      "source": [
        "## **Learning Rate Schedule** : برنامه ریزی نرخ یادگیری\n",
        "\n",
        "یک تکنیک در آموزش مدل‌های یادگیری عمیق است که نرخ یادگیری را در طول فرآیند آموزش به صورت پویا تنظیم می‌کند تا :\n",
        "\n",
        "بهبود همگرایی : کمک می‌کند مدل سریع‌تر به بهینه‌ی سراسری  برسد\n",
        "\n",
        "پایداری آموزش : از نوسانات زیاد در اوایل آموزش جلوگیری می‌کند\n",
        "\n",
        "دقت نهایی بهتر : با کاهش نرخ یادگیری در مراحل پایانی، مدل بهینه‌ تر می‌شود\n",
        "\n",
        "\n",
        "#### ⁉ **lr_schedule** دلیل نیاز به\n",
        "\n",
        "نرخ یادگیری ثابت ممکن است باعث شود :    \n",
        "- در اوایل آموزش، مدل به آرامی همگرا شود\n",
        "- در مراحل پایانی، مدل حول بهینه نوسان کند\n"
      ],
      "metadata": {
        "id": "WSQQDDD0612r"
      }
    },
    {
      "cell_type": "markdown",
      "source": [
        "###  PyTorch در **lr_scheduler**  انواع  (torch.optim.lr_scheduler)"
      ],
      "metadata": {
        "id": "bYYQ06D7vibt"
      }
    },
    {
      "cell_type": "markdown",
      "source": [
        "#### 1. CosineAnnealingLR:\n",
        "\n",
        "- نرخ یادگیری را به صورت کسینوسی کاهش می‌دهد\n",
        "\n",
        "- مناسب برای تمرین‌های طولانی (مانند آموزش مدل‌های بزرگ)\n",
        "\n",
        "- پرکاربرد ترین روش است\n",
        "\n",
        "مثال استفاده :"
      ],
      "metadata": {
        "id": "L4sGHIxfviLW"
      }
    },
    {
      "cell_type": "code",
      "source": [
        "# آپدیت نرخ یادگیری در هر ایپاک\n",
        "optimizer = torch.optim.SGD(model.parameters(), lr=0.1)\n",
        "scheduler = torch.optim.lr_scheduler.CosineAnnealingLR(optimizer, T_max=100)\n",
        "for epoch in range(100):\n",
        "    train(...)\n",
        "    scheduler.step()"
      ],
      "metadata": {
        "id": "YgOIfUgDwEKo"
      },
      "execution_count": null,
      "outputs": []
    },
    {
      "cell_type": "markdown",
      "source": [
        "#### 2.StepLR:\n",
        "\n",
        " -  را در هر گام مشخصی کاهش می‌دهد RL (مثلاً هر ۳۰ ایپاک)\n",
        "\n",
        "مثال :    \n"
      ],
      "metadata": {
        "id": "ZY_2tT-nwFgf"
      }
    },
    {
      "cell_type": "code",
      "source": [
        "scheduler = torch.optim.lr_scheduler.StepLR(optimizer, step_size=30, gamma=0.1)"
      ],
      "metadata": {
        "id": "kLJNa0BSwSHZ"
      },
      "execution_count": null,
      "outputs": []
    },
    {
      "cell_type": "markdown",
      "source": [
        "#### 3.ReduceLROnPlateau:\n",
        "\n",
        "  -  بهبود نیافت، نرخ یادگیری را کاهش می‌دهد Validation اگر خطای\n",
        "  \n",
        "مثال :"
      ],
      "metadata": {
        "id": "qeqNBU5twVen"
      }
    },
    {
      "cell_type": "code",
      "source": [
        "  scheduler = torch.optim.lr_scheduler.ReduceLROnPlateau(optimizer, 'min', patience=5)\n",
        "  scheduler.step(val_loss)  # epoch پس از هر\n"
      ],
      "metadata": {
        "id": "BGxeX0SiwkA0"
      },
      "execution_count": null,
      "outputs": []
    },
    {
      "cell_type": "markdown",
      "source": [
        "#### 4.OneCycleLR:\n",
        "\n",
        "  - ترکیب افزایش و کاهش نره یادگیری به صورت هوشمند (برای آموزش سریع‌تر)\n",
        "\n",
        "مثال :  "
      ],
      "metadata": {
        "id": "WPqFW-SPwmxo"
      }
    },
    {
      "cell_type": "code",
      "source": [
        "scheduler = torch.optim.lr_scheduler.OneCycleLR(optimizer, max_lr=0.1, total_steps=100)"
      ],
      "metadata": {
        "id": "CoZS9C_swzhZ"
      },
      "execution_count": null,
      "outputs": []
    },
    {
      "cell_type": "markdown",
      "source": [
        "---\n",
        "## **lr_schedule**\n",
        "\n",
        "این متد یک ترکیب از دو روش برای تنظیم نرخ یادگیری است\n",
        "\n",
        "1. **Warmup** : (گرم کردن) در ابتدای آموزش\n",
        "\n",
        "2. کاهش کسینوسی (**Cosine Decay**) : Warmup پس از مرحله\n",
        "\n",
        "روش کار به این شکل است که ابتدا به شکل خطی نرخ یادگیری زیاد میشود, سپس به شکل منحنی کسینوسی ,به صورت نرم و تدریجی کاهش میابد"
      ],
      "metadata": {
        "id": "9o20gv47oL8w"
      }
    },
    {
      "cell_type": "markdown",
      "source": [
        "#### 1.**Warmup** (گرم کردن)"
      ],
      "metadata": {
        "id": "-gryhJdyp9ok"
      }
    },
    {
      "cell_type": "code",
      "source": [
        "if step < cfg.warmup:\n",
        "    return cfg.lr * (step + 1) / max(1, cfg.warmup)"
      ],
      "metadata": {
        "id": "UF-mxDkGqDbG"
      },
      "execution_count": null,
      "outputs": []
    },
    {
      "cell_type": "markdown",
      "source": [
        "توضیحات :    \n",
        "\n",
        "باشد, نرخ یادگیری به صورتر خطی افزایش میابدcfg.warmup کمتر از step اگر\n"
      ],
      "metadata": {
        "id": "0BULoLXtqFui"
      }
    },
    {
      "cell_type": "markdown",
      "source": [
        "#### 2. مرحله کاهش کسینوسی (**Cosine Decay**)"
      ],
      "metadata": {
        "id": "LxbnATKSsTIt"
      }
    },
    {
      "cell_type": "code",
      "source": [
        "progress = (step - cfg.warmup) / max(1, cfg.steps - cfg.warmup)\n",
        "min_lr = cfg.lr * 0.1     # حداقل LR = 10% مقدار اصلی\n",
        "return min_lr + 0.5 * (cfg.lr - min_lr) * (1 + math.cos(math.pi * min(progress, 1.0)))"
      ],
      "metadata": {
        "id": "KYi1B2KNscip"
      },
      "execution_count": null,
      "outputs": []
    },
    {
      "cell_type": "markdown",
      "source": [
        "warmup هدف : کاهش نرم و تدریجی نرخ یادگیری پس از\n",
        "\n",
        "است CosineAnnealingLR فرمول کاهش کسینوسی مشابه\n"
      ],
      "metadata": {
        "id": "bL6O77iQsgmI"
      }
    },
    {
      "cell_type": "markdown",
      "source": [
        "---\n",
        "## **CosineAnnealingLR**"
      ],
      "metadata": {
        "id": "we_qth4Hh5lw"
      }
    },
    {
      "cell_type": "markdown",
      "source": [
        "##### CosineAnnealingLR فرمول\n",
        "\n",
        "![image.png](data:image/png;base64,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)\n",
        "\n",
        "\n",
        "η_max: نرخ یادگیری اولیه (initial_lr)\n",
        "\n",
        "η_min: حداقل نرخ یادگیری (eta_min، معمولاً 0 یا مقدار بسیار کوچک)\n",
        "\n",
        "T_cur: گام فعلی (تعداد به‌روزرسانی‌های انجام‌شده)\n",
        "\n",
        "T_max: کل گام‌های یک سیکل (معمولاً برابر تعداد epochها)\n",
        "\n",
        "\n",
        "\n",
        "#### ▶ نحوه تغییر نرخ یادگیری در طول زمان\n",
        "\n",
        "1. شروع میشود η_max نرخ یادگیری از\n",
        "\n",
        "2. به تدریج با منحنی کسینوسی کاهش می‌یابد\n",
        "\n",
        "3. میرسد η_min به T_max در\n",
        "\n",
        "4. برمیگردد η_max سپس دوباره به ( اگر سیکل تکرار شود)"
      ],
      "metadata": {
        "id": "t1aK9LxvjfXH"
      }
    },
    {
      "cell_type": "code",
      "execution_count": null,
      "metadata": {
        "id": "bPKlDC_r6Kq_"
      },
      "outputs": [],
      "source": [
        "# مثال\n",
        "import torch\n",
        "import torch.optim as optim\n",
        "from torch.optim.lr_scheduler import CosineAnnealingLR\n",
        "\n",
        "# 1. تعریف مدل و بهینه‌ساز\n",
        "model = torch.nn.Linear(10, 2)\n",
        "optimizer = optim.SGD(model.parameters(), lr=0.1)  # LR اولیه = 0.1\n",
        "\n",
        "# 2. تعریف CosineAnnealingLR\n",
        "scheduler = CosineAnnealingLR(optimizer, T_max=100, eta_min=0.001)\n",
        "\n",
        "# 3. حلقه آموزش\n",
        "for epoch in range(100):\n",
        "    # آموزش مدل...\n",
        "    optimizer.step()\n",
        "    scheduler.step()  # به‌روزرسانی LR در هر epoch\n",
        "\n",
        "    # چاپ LR فعلی\n",
        "    print(f\"Epoch {epoch}, LR = {optimizer.param_groups[0]['lr']}\")"
      ]
    },
    {
      "cell_type": "markdown",
      "source": [
        "خروجی :    \n",
        "\n",
        "در ابتدای آموزش، نرخ یادگیری نزدیک به 0.1 است\n",
        "\n",
        "در انتهای آموزش، نرخ یادگیری به 0.001 کاهش می‌یابد\n",
        "\n",
        "تغییرات نرخ یادگیری به صورت صاف و کسینوسی است (نه ناگهانی مثل StepLR)"
      ],
      "metadata": {
        "id": "DLpMr1oan2ui"
      }
    }
  ]
}